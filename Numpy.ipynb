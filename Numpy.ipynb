{
  "nbformat": 4,
  "nbformat_minor": 5,
  "metadata": {
    "kernelspec": {
      "display_name": "Python 3",
      "language": "python",
      "name": "python3"
    },
    "language_info": {
      "codemirror_mode": {
        "name": "ipython",
        "version": 3
      },
      "file_extension": ".py",
      "mimetype": "text/x-python",
      "name": "python",
      "nbconvert_exporter": "python",
      "pygments_lexer": "ipython3",
      "version": "3.8.8"
    },
    "colab": {
      "provenance": [],
      "include_colab_link": true
    }
  },
  "cells": [
    {
      "cell_type": "markdown",
      "metadata": {
        "id": "view-in-github",
        "colab_type": "text"
      },
      "source": [
        "<a href=\"https://colab.research.google.com/github/Ankita-Rane/Python-Basics/blob/main/Numpy.ipynb\" target=\"_parent\"><img src=\"https://colab.research.google.com/assets/colab-badge.svg\" alt=\"Open In Colab\"/></a>"
      ]
    },
    {
      "cell_type": "code",
      "metadata": {
        "id": "252791ac"
      },
      "source": [
        "import numpy as np"
      ],
      "id": "252791ac",
      "execution_count": null,
      "outputs": []
    },
    {
      "cell_type": "code",
      "metadata": {
        "id": "ca365d09",
        "outputId": "7c457de2-6abe-48ef-ab29-526d0ba68a68"
      },
      "source": [
        "def solve(a,b,c):\n",
        "    arr1 = np.full((a,b),c)\n",
        "    return arr1\n",
        "solve(3,3,5)"
      ],
      "id": "ca365d09",
      "execution_count": null,
      "outputs": [
        {
          "data": {
            "text/plain": [
              "array([[5, 5, 5],\n",
              "       [5, 5, 5],\n",
              "       [5, 5, 5]])"
            ]
          },
          "execution_count": 26,
          "metadata": {},
          "output_type": "execute_result"
        }
      ]
    },
    {
      "cell_type": "code",
      "metadata": {
        "id": "52e2cf33",
        "outputId": "e57c146d-a916-467a-ed63-c26ddc2018d0"
      },
      "source": [
        "def sum_arr(*arr):\n",
        "    ls = [*arr]\n",
        "    arr2 = [0]\n",
        "    for arr in ls:\n",
        "        arr2 = arr2+arr\n",
        "    return arr2\n",
        "\n",
        "x = np.array([[1,5],[1,6]])\n",
        "y = np.array([[5,9],[6,7]])\n",
        "z = np.array([[6,10],[8,9]])\n",
        "a = np.array([[5,10],[6,9]])\n",
        "\n",
        "sum_arr(x,y,z,a)"
      ],
      "id": "52e2cf33",
      "execution_count": null,
      "outputs": [
        {
          "data": {
            "text/plain": [
              "array([[17, 34],\n",
              "       [21, 31]])"
            ]
          },
          "execution_count": 27,
          "metadata": {},
          "output_type": "execute_result"
        }
      ]
    },
    {
      "cell_type": "code",
      "metadata": {
        "id": "d9e11f84",
        "outputId": "eaab3a41-0f35-4300-ea0a-674f11efdf9f"
      },
      "source": [
        "def slic(arr,n,m):\n",
        "    slic1 = arr[:n,:m]\n",
        "    return slic1\n",
        "x = np.array([[1,2,3],[4,5,6],[7,8,9]]) \n",
        "slic(x,2,2)"
      ],
      "id": "d9e11f84",
      "execution_count": null,
      "outputs": [
        {
          "data": {
            "text/plain": [
              "array([[1, 2],\n",
              "       [4, 5]])"
            ]
          },
          "execution_count": 28,
          "metadata": {},
          "output_type": "execute_result"
        }
      ]
    },
    {
      "cell_type": "code",
      "metadata": {
        "id": "56928359",
        "outputId": "638f1d86-6914-4367-e64d-3026d9259272"
      },
      "source": [
        "def slic(arr,n,m):\n",
        "    slic1 = arr[n:,m:]\n",
        "    return slic1\n",
        "x = np.array([[1,2,3],[4,5,6],[7,8,9]]) \n",
        "slic(x,1,1)"
      ],
      "id": "56928359",
      "execution_count": null,
      "outputs": [
        {
          "data": {
            "text/plain": [
              "array([[5, 6],\n",
              "       [8, 9]])"
            ]
          },
          "execution_count": 29,
          "metadata": {},
          "output_type": "execute_result"
        }
      ]
    },
    {
      "cell_type": "code",
      "metadata": {
        "id": "23299fca",
        "outputId": "22a77cfe-f778-4e88-9531-b4a09544f970"
      },
      "source": [
        "def stat(a):\n",
        "    std_dev = np.std(a)\n",
        "    mean = np.mean(a)\n",
        "    dic = {\"mean\":mean,\"std_dev\":std_dev}\n",
        "    return dic\n",
        "x = [1,1,1]\n",
        "stat(x)"
      ],
      "id": "23299fca",
      "execution_count": null,
      "outputs": [
        {
          "data": {
            "text/plain": [
              "{'mean': 1.0, 'std_dev': 0.0}"
            ]
          },
          "execution_count": 30,
          "metadata": {},
          "output_type": "execute_result"
        }
      ]
    }
  ]
}