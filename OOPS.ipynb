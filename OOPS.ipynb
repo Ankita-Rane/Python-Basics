{
  "nbformat": 4,
  "nbformat_minor": 5,
  "metadata": {
    "kernelspec": {
      "display_name": "Python 3",
      "language": "python",
      "name": "python3"
    },
    "language_info": {
      "codemirror_mode": {
        "name": "ipython",
        "version": 3
      },
      "file_extension": ".py",
      "mimetype": "text/x-python",
      "name": "python",
      "nbconvert_exporter": "python",
      "pygments_lexer": "ipython3",
      "version": "3.8.8"
    },
    "colab": {
      "provenance": [],
      "include_colab_link": true
    }
  },
  "cells": [
    {
      "cell_type": "markdown",
      "metadata": {
        "id": "view-in-github",
        "colab_type": "text"
      },
      "source": [
        "<a href=\"https://colab.research.google.com/github/Ankita-Rane/Python-Basics/blob/main/OOPS.ipynb\" target=\"_parent\"><img src=\"https://colab.research.google.com/assets/colab-badge.svg\" alt=\"Open In Colab\"/></a>"
      ]
    },
    {
      "cell_type": "code",
      "metadata": {
        "id": "71040371",
        "outputId": "23848da0-4eef-42d8-fcc0-d7dce6e59490"
      },
      "source": [
        "class Employee:\n",
        "    def __init__(self,name,salary):\n",
        "        self.name = name\n",
        "        self.salary = salary\n",
        "        \n",
        "    def __str__(self):\n",
        "        return 'Name: '+self.name+', Salary: '+self.salary\n",
        "    \n",
        "Manoj = Employee(\"Manoj\", \"22000\")\n",
        "print(Manoj)"
      ],
      "id": "71040371",
      "execution_count": null,
      "outputs": [
        {
          "name": "stdout",
          "output_type": "stream",
          "text": [
            "Name: Manoj, Salary: 22000\n"
          ]
        }
      ]
    },
    {
      "cell_type": "code",
      "metadata": {
        "id": "4a8a76b1",
        "outputId": "976ff956-41ec-4a3f-a569-a8758207e57a"
      },
      "source": [
        "class Calculator:\n",
        "    def __init__(self,a,b):\n",
        "        self.a = a\n",
        "        self.b = b\n",
        "        \n",
        "    def add(self):\n",
        "        print(\"The result is:\", end = \" \")\n",
        "        return self.a+self.b\n",
        "    def subtract(self):\n",
        "        print(\"The result is:\", end = \" \")\n",
        "        return self.a-self.b\n",
        "    def multiply(self):\n",
        "        print(\"The result is:\", end = \" \")\n",
        "        return self.a*self.b\n",
        "    def divide(self):\n",
        "        print(\"The result is:\", end = \" \")\n",
        "        return self.a/self.b\n",
        "\n",
        "x = int(input(\"Enter the first value: \"))    \n",
        "y = int(input(\"Enter the second value: \"))\n",
        "calc = Calculator(x,y)\n",
        "print(calc.add())\n",
        "print(calc.subtract())\n",
        "print(calc.multiply())\n",
        "print(calc.divide())"
      ],
      "id": "4a8a76b1",
      "execution_count": null,
      "outputs": [
        {
          "name": "stdout",
          "output_type": "stream",
          "text": [
            "Enter the first value: 650\n",
            "Enter the second value: 26\n",
            "The result is: 676\n",
            "The result is: 624\n",
            "The result is: 16900\n",
            "The result is: 25.0\n"
          ]
        }
      ]
    }
  ]
}