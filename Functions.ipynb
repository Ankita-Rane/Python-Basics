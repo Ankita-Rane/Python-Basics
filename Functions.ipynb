{
  "cells": [
    {
      "cell_type": "markdown",
      "metadata": {
        "id": "view-in-github",
        "colab_type": "text"
      },
      "source": [
        "<a href=\"https://colab.research.google.com/github/Ankita-Rane/Python-Basics/blob/main/Functions.ipynb\" target=\"_parent\"><img src=\"https://colab.research.google.com/assets/colab-badge.svg\" alt=\"Open In Colab\"/></a>"
      ]
    },
    {
      "cell_type": "code",
      "execution_count": null,
      "id": "e5ed6117",
      "metadata": {
        "id": "e5ed6117",
        "outputId": "f7521576-bf83-443c-9805-faefe2e04d98"
      },
      "outputs": [
        {
          "name": "stdout",
          "output_type": "stream",
          "text": [
            "Enter the number: 10\n",
            "The factorial is:  3628800\n"
          ]
        }
      ],
      "source": [
        "def factor(num):\n",
        "    factorial = 1\n",
        "    if num >=1:\n",
        "        for i in range(1,num+1):\n",
        "            factorial = factorial * i\n",
        "    return factorial\n",
        "n=int(input(\"Enter the number: \"))\n",
        "print(\"The factorial is: \",factor(n))"
      ]
    },
    {
      "cell_type": "code",
      "source": [],
      "metadata": {
        "id": "nUHvnoT8sLn0"
      },
      "id": "nUHvnoT8sLn0",
      "execution_count": null,
      "outputs": []
    },
    {
      "cell_type": "code",
      "execution_count": null,
      "id": "c195a730",
      "metadata": {
        "id": "c195a730",
        "outputId": "d920cd8c-5fb4-4ddf-b6dc-3de4a6922561"
      },
      "outputs": [
        {
          "name": "stdout",
          "output_type": "stream",
          "text": [
            "The string is containing the letter's'\n"
          ]
        }
      ],
      "source": [
        "def check_string(check_s):\n",
        "\n",
        "    for i in check_s:\n",
        "        if i == 's':\n",
        "            x = True\n",
        "    if x:\n",
        "        print(\"The string is containing the letter's'\")\n",
        "    else:\n",
        "        print(\"The string doesn't containing the letter's'\")\n",
        "check_string(\"strong\")"
      ]
    },
    {
      "cell_type": "code",
      "execution_count": null,
      "id": "027aceb2",
      "metadata": {
        "id": "027aceb2",
        "outputId": "d48793df-5de3-4055-ac09-cabf847fbe39"
      },
      "outputs": [
        {
          "name": "stdout",
          "output_type": "stream",
          "text": [
            "Enter a value: 10\n",
            "10\n",
            "10\n"
          ]
        }
      ],
      "source": [
        "class student:\n",
        "    def fun1(self,a):\n",
        "        self.a = a\n",
        "        return self.a\n",
        "    \n",
        "    def message(self):\n",
        "        print(self.a)\n",
        "\n",
        "n = int(input(\"Enter a value: \"))\n",
        "s1 = student()\n",
        "print(s1.fun1(n))\n",
        "s1.message()\n",
        "        "
      ]
    },
    {
      "cell_type": "code",
      "execution_count": null,
      "id": "3260d6f5",
      "metadata": {
        "id": "3260d6f5",
        "outputId": "53467736-eb91-4021-d0ae-d81b3184f5fe"
      },
      "outputs": [
        {
          "name": "stdout",
          "output_type": "stream",
          "text": [
            "25\n"
          ]
        }
      ],
      "source": [
        "double_num = lambda a : a*a\n",
        "print(double_num(5))"
      ]
    },
    {
      "cell_type": "code",
      "execution_count": null,
      "id": "840c5a95",
      "metadata": {
        "id": "840c5a95",
        "outputId": "aaeae16d-b679-48bd-da52-5999dcd7b555"
      },
      "outputs": [
        {
          "name": "stdout",
          "output_type": "stream",
          "text": [
            "Enter the string: 101\n",
            "Given string is palindrome\n"
          ]
        }
      ],
      "source": [
        "strg = input(\"Enter the string: \")\n",
        "strg1 = strg[::-1]\n",
        "if strg == strg1:\n",
        "    print(\"Given string is palindrome\")\n",
        "else:\n",
        "    print(\"Given string is not a palindrome\")"
      ]
    },
    {
      "cell_type": "code",
      "execution_count": null,
      "id": "1c6851dd",
      "metadata": {
        "id": "1c6851dd",
        "outputId": "70a2cc5c-b0c6-42e7-ef03-94cf5fb4c868"
      },
      "outputs": [
        {
          "name": "stdout",
          "output_type": "stream",
          "text": [
            "Given string is palindrome:  mom\n",
            "Given string is palindrome:  DAD\n",
            "Given string is not a palindrome:  win\n"
          ]
        }
      ],
      "source": [
        "def palind(strn):\n",
        "    if strn == strn[::-1]:\n",
        "        print(\"Given string is palindrome: \",strn)\n",
        "    else:\n",
        "        print(\"Given string is not a palindrome: \",strn)\n",
        "    \n",
        "palind(\"mom\")\n",
        "palind(\"DAD\")\n",
        "palind(\"win\")"
      ]
    }
  ],
  "metadata": {
    "kernelspec": {
      "display_name": "Python 3",
      "language": "python",
      "name": "python3"
    },
    "language_info": {
      "codemirror_mode": {
        "name": "ipython",
        "version": 3
      },
      "file_extension": ".py",
      "mimetype": "text/x-python",
      "name": "python",
      "nbconvert_exporter": "python",
      "pygments_lexer": "ipython3",
      "version": "3.8.8"
    },
    "colab": {
      "provenance": [],
      "include_colab_link": true
    }
  },
  "nbformat": 4,
  "nbformat_minor": 5
}